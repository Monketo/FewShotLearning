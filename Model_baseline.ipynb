{
 "cells": [
  {
   "cell_type": "code",
   "execution_count": 2,
   "metadata": {},
   "outputs": [
    {
     "name": "stdout",
     "output_type": "stream",
     "text": [
      "Requirement already satisfied: tensorflow in /anaconda3/lib/python3.6/site-packages (1.8.0)\n",
      "Requirement already satisfied: keras in /anaconda3/lib/python3.6/site-packages (2.2.0)\n",
      "Requirement already satisfied: protobuf>=3.4.0 in /anaconda3/lib/python3.6/site-packages (from tensorflow) (3.6.0)\n",
      "Requirement already satisfied: tensorboard<1.9.0,>=1.8.0 in /anaconda3/lib/python3.6/site-packages (from tensorflow) (1.8.0)\n",
      "Requirement already satisfied: gast>=0.2.0 in /anaconda3/lib/python3.6/site-packages (from tensorflow) (0.2.0)\n",
      "Requirement already satisfied: numpy>=1.13.3 in /anaconda3/lib/python3.6/site-packages (from tensorflow) (1.14.0)\n",
      "Requirement already satisfied: grpcio>=1.8.6 in /anaconda3/lib/python3.6/site-packages (from tensorflow) (1.13.0)\n",
      "Requirement already satisfied: wheel>=0.26 in /anaconda3/lib/python3.6/site-packages (from tensorflow) (0.30.0)\n",
      "Requirement already satisfied: astor>=0.6.0 in /anaconda3/lib/python3.6/site-packages (from tensorflow) (0.7.1)\n",
      "Requirement already satisfied: termcolor>=1.1.0 in /anaconda3/lib/python3.6/site-packages (from tensorflow) (1.1.0)\n",
      "Requirement already satisfied: absl-py>=0.1.6 in /anaconda3/lib/python3.6/site-packages (from tensorflow) (0.2.2)\n",
      "Requirement already satisfied: six>=1.10.0 in /anaconda3/lib/python3.6/site-packages (from tensorflow) (1.11.0)\n",
      "Requirement already satisfied: scipy>=0.14 in /anaconda3/lib/python3.6/site-packages (from keras) (1.0.0)\n",
      "Requirement already satisfied: h5py in /anaconda3/lib/python3.6/site-packages (from keras) (2.7.1)\n",
      "Requirement already satisfied: pyyaml in /anaconda3/lib/python3.6/site-packages (from keras) (3.12)\n",
      "Requirement already satisfied: keras-applications==1.0.2 in /anaconda3/lib/python3.6/site-packages (from keras) (1.0.2)\n",
      "Requirement already satisfied: keras-preprocessing==1.0.1 in /anaconda3/lib/python3.6/site-packages (from keras) (1.0.1)\n",
      "Requirement already satisfied: setuptools in /anaconda3/lib/python3.6/site-packages (from protobuf>=3.4.0->tensorflow) (39.2.0)\n",
      "Requirement already satisfied: html5lib==0.9999999 in /anaconda3/lib/python3.6/site-packages (from tensorboard<1.9.0,>=1.8.0->tensorflow) (0.9999999)\n",
      "Requirement already satisfied: markdown>=2.6.8 in /anaconda3/lib/python3.6/site-packages (from tensorboard<1.9.0,>=1.8.0->tensorflow) (2.6.11)\n",
      "Requirement already satisfied: werkzeug>=0.11.10 in /anaconda3/lib/python3.6/site-packages (from tensorboard<1.9.0,>=1.8.0->tensorflow) (0.14.1)\n",
      "Requirement already satisfied: bleach==1.5.0 in /anaconda3/lib/python3.6/site-packages (from tensorboard<1.9.0,>=1.8.0->tensorflow) (1.5.0)\n"
     ]
    }
   ],
   "source": [
    "!pip install tensorflow keras"
   ]
  },
  {
   "cell_type": "code",
   "execution_count": 31,
   "metadata": {},
   "outputs": [],
   "source": [
    "import keras\n",
    "from keras.layers import Input, Dense,Conv2D,MaxPooling2D,Flatten,Concatenate,Lambda\n",
    "from keras.models import Model\n",
    "import keras.backend as K"
   ]
  },
  {
   "cell_type": "code",
   "execution_count": 80,
   "metadata": {},
   "outputs": [],
   "source": [
    "letter_input = Input(shape=( 105, 105 , 1 ))\n",
    "x = Conv2D(64, (10, 10),activation=\"relu\")(letter_input)\n",
    "x = MaxPooling2D()(x)\n",
    "x = Conv2D(128, (7, 7),activation=\"relu\")(x)\n",
    "x = MaxPooling2D()(x)\n",
    "x = Conv2D(128, (4, 4),activation=\"relu\")(x)\n",
    "x = MaxPooling2D()(x)\n",
    "x = Conv2D(256, (4, 4),activation=\"relu\")(x)\n",
    "out = Flatten()(x)\n",
    "\n",
    "\n",
    "vision_model = Model(letter_input, out)\n",
    "\n",
    "letter1 = Input(shape=( 105, 105 , 1))\n",
    "letter2 = Input(shape=( 105, 105 , 1))\n",
    "\n",
    "out_1 = vision_model(letter1)\n",
    "out_2 = vision_model(letter2)\n",
    "\n",
    "def Manhattan_distance(A,B):\n",
    "    return K.sum( K.abs( A-B),axis=1,keepdims=True)\n",
    "\n",
    "\n",
    "merged_vector = Lambda(lambda x:Manhattan_distance(x[0],x[1]), output_shape=lambda inp_shp:(inp_shp[0][0],1))([out_1,out_2])\n",
    "\n",
    "\n",
    "out_final = Dense(4096,activation=\"sigmoid\")(merged_vector)\n",
    "final_output = Dense(1,activation=\"sigmoid\")(out_final)\n",
    "\n",
    "final_model = keras.models.Model(inputs=[letter1, letter2], outputs=final_output)\n",
    "\n"
   ]
  },
  {
   "cell_type": "code",
   "execution_count": 81,
   "metadata": {},
   "outputs": [],
   "source": [
    "final_model.compile(optimizer='Adam',\n",
    "              loss='binary_crossentropy',\n",
    "              metrics=['binary_accuracy'])"
   ]
  },
  {
   "cell_type": "code",
   "execution_count": 82,
   "metadata": {},
   "outputs": [
    {
     "name": "stdout",
     "output_type": "stream",
     "text": [
      "_________________________________________________________________\n",
      "Layer (type)                 Output Shape              Param #   \n",
      "=================================================================\n",
      "input_88 (InputLayer)        (None, 105, 105, 1)       0         \n",
      "_________________________________________________________________\n",
      "conv2d_142 (Conv2D)          (None, 96, 96, 64)        6464      \n",
      "_________________________________________________________________\n",
      "max_pooling2d_109 (MaxPoolin (None, 48, 48, 64)        0         \n",
      "_________________________________________________________________\n",
      "conv2d_143 (Conv2D)          (None, 42, 42, 128)       401536    \n",
      "_________________________________________________________________\n",
      "max_pooling2d_110 (MaxPoolin (None, 21, 21, 128)       0         \n",
      "_________________________________________________________________\n",
      "conv2d_144 (Conv2D)          (None, 18, 18, 128)       262272    \n",
      "_________________________________________________________________\n",
      "max_pooling2d_111 (MaxPoolin (None, 9, 9, 128)         0         \n",
      "_________________________________________________________________\n",
      "conv2d_145 (Conv2D)          (None, 6, 6, 256)         524544    \n",
      "_________________________________________________________________\n",
      "flatten_31 (Flatten)         (None, 9216)              0         \n",
      "=================================================================\n",
      "Total params: 1,194,816\n",
      "Trainable params: 1,194,816\n",
      "Non-trainable params: 0\n",
      "_________________________________________________________________\n"
     ]
    }
   ],
   "source": [
    "final_model.layers[2].summary()"
   ]
  },
  {
   "cell_type": "code",
   "execution_count": 83,
   "metadata": {},
   "outputs": [
    {
     "name": "stdout",
     "output_type": "stream",
     "text": [
      "__________________________________________________________________________________________________\n",
      "Layer (type)                    Output Shape         Param #     Connected to                     \n",
      "==================================================================================================\n",
      "input_89 (InputLayer)           (None, 105, 105, 1)  0                                            \n",
      "__________________________________________________________________________________________________\n",
      "input_90 (InputLayer)           (None, 105, 105, 1)  0                                            \n",
      "__________________________________________________________________________________________________\n",
      "model_39 (Model)                (None, 9216)         1194816     input_89[0][0]                   \n",
      "                                                                 input_90[0][0]                   \n",
      "__________________________________________________________________________________________________\n",
      "lambda_16 (Lambda)              (None, 1)            0           model_39[1][0]                   \n",
      "                                                                 model_39[2][0]                   \n",
      "__________________________________________________________________________________________________\n",
      "dense_32 (Dense)                (None, 4096)         8192        lambda_16[0][0]                  \n",
      "__________________________________________________________________________________________________\n",
      "dense_33 (Dense)                (None, 1)            4097        dense_32[0][0]                   \n",
      "==================================================================================================\n",
      "Total params: 1,207,105\n",
      "Trainable params: 1,207,105\n",
      "Non-trainable params: 0\n",
      "__________________________________________________________________________________________________\n"
     ]
    }
   ],
   "source": [
    "final_model.summary()"
   ]
  },
  {
   "cell_type": "code",
   "execution_count": null,
   "metadata": {},
   "outputs": [],
   "source": []
  },
  {
   "cell_type": "code",
   "execution_count": null,
   "metadata": {},
   "outputs": [],
   "source": []
  }
 ],
 "metadata": {
  "kernelspec": {
   "display_name": "Python 3",
   "language": "python",
   "name": "python3"
  },
  "language_info": {
   "codemirror_mode": {
    "name": "ipython",
    "version": 3
   },
   "file_extension": ".py",
   "mimetype": "text/x-python",
   "name": "python",
   "nbconvert_exporter": "python",
   "pygments_lexer": "ipython3",
   "version": "3.6.4"
  }
 },
 "nbformat": 4,
 "nbformat_minor": 2
}
